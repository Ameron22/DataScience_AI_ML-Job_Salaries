{
 "cells": [
  {
   "cell_type": "code",
   "execution_count": 4,
   "id": "7e36b393",
   "metadata": {},
   "outputs": [],
   "source": [
    "import pandas as pd"
   ]
  },
  {
   "cell_type": "code",
   "execution_count": 5,
   "id": "ca573348",
   "metadata": {},
   "outputs": [
    {
     "data": {
      "text/html": [
       "<div>\n",
       "<style scoped>\n",
       "    .dataframe tbody tr th:only-of-type {\n",
       "        vertical-align: middle;\n",
       "    }\n",
       "\n",
       "    .dataframe tbody tr th {\n",
       "        vertical-align: top;\n",
       "    }\n",
       "\n",
       "    .dataframe thead th {\n",
       "        text-align: right;\n",
       "    }\n",
       "</style>\n",
       "<table border=\"1\" class=\"dataframe\">\n",
       "  <thead>\n",
       "    <tr style=\"text-align: right;\">\n",
       "      <th></th>\n",
       "      <th>work_year</th>\n",
       "      <th>experience_level</th>\n",
       "      <th>employment_type</th>\n",
       "      <th>job_title</th>\n",
       "      <th>salary</th>\n",
       "      <th>salary_currency</th>\n",
       "      <th>salary_in_usd</th>\n",
       "      <th>employee_residence</th>\n",
       "      <th>remote_ratio</th>\n",
       "      <th>company_location</th>\n",
       "      <th>company_size</th>\n",
       "    </tr>\n",
       "  </thead>\n",
       "  <tbody>\n",
       "    <tr>\n",
       "      <th>0</th>\n",
       "      <td>2025</td>\n",
       "      <td>SE</td>\n",
       "      <td>FT</td>\n",
       "      <td>Solutions Engineer</td>\n",
       "      <td>214000</td>\n",
       "      <td>USD</td>\n",
       "      <td>214000</td>\n",
       "      <td>US</td>\n",
       "      <td>100</td>\n",
       "      <td>US</td>\n",
       "      <td>M</td>\n",
       "    </tr>\n",
       "    <tr>\n",
       "      <th>1</th>\n",
       "      <td>2025</td>\n",
       "      <td>SE</td>\n",
       "      <td>FT</td>\n",
       "      <td>Solutions Engineer</td>\n",
       "      <td>136000</td>\n",
       "      <td>USD</td>\n",
       "      <td>136000</td>\n",
       "      <td>US</td>\n",
       "      <td>100</td>\n",
       "      <td>US</td>\n",
       "      <td>M</td>\n",
       "    </tr>\n",
       "    <tr>\n",
       "      <th>2</th>\n",
       "      <td>2025</td>\n",
       "      <td>MI</td>\n",
       "      <td>FT</td>\n",
       "      <td>Data Engineer</td>\n",
       "      <td>158800</td>\n",
       "      <td>USD</td>\n",
       "      <td>158800</td>\n",
       "      <td>AU</td>\n",
       "      <td>0</td>\n",
       "      <td>AU</td>\n",
       "      <td>M</td>\n",
       "    </tr>\n",
       "    <tr>\n",
       "      <th>3</th>\n",
       "      <td>2025</td>\n",
       "      <td>MI</td>\n",
       "      <td>FT</td>\n",
       "      <td>Data Engineer</td>\n",
       "      <td>139200</td>\n",
       "      <td>USD</td>\n",
       "      <td>139200</td>\n",
       "      <td>AU</td>\n",
       "      <td>0</td>\n",
       "      <td>AU</td>\n",
       "      <td>M</td>\n",
       "    </tr>\n",
       "    <tr>\n",
       "      <th>4</th>\n",
       "      <td>2025</td>\n",
       "      <td>EN</td>\n",
       "      <td>FT</td>\n",
       "      <td>Data Engineer</td>\n",
       "      <td>90000</td>\n",
       "      <td>USD</td>\n",
       "      <td>90000</td>\n",
       "      <td>US</td>\n",
       "      <td>0</td>\n",
       "      <td>US</td>\n",
       "      <td>M</td>\n",
       "    </tr>\n",
       "  </tbody>\n",
       "</table>\n",
       "</div>"
      ],
      "text/plain": [
       "   work_year experience_level employment_type           job_title  salary  \\\n",
       "0       2025               SE              FT  Solutions Engineer  214000   \n",
       "1       2025               SE              FT  Solutions Engineer  136000   \n",
       "2       2025               MI              FT       Data Engineer  158800   \n",
       "3       2025               MI              FT       Data Engineer  139200   \n",
       "4       2025               EN              FT       Data Engineer   90000   \n",
       "\n",
       "  salary_currency  salary_in_usd employee_residence  remote_ratio  \\\n",
       "0             USD         214000                 US           100   \n",
       "1             USD         136000                 US           100   \n",
       "2             USD         158800                 AU             0   \n",
       "3             USD         139200                 AU             0   \n",
       "4             USD          90000                 US             0   \n",
       "\n",
       "  company_location company_size  \n",
       "0               US            M  \n",
       "1               US            M  \n",
       "2               AU            M  \n",
       "3               AU            M  \n",
       "4               US            M  "
      ]
     },
     "execution_count": 5,
     "metadata": {},
     "output_type": "execute_result"
    }
   ],
   "source": [
    "# Read the CSV file\n",
    "df = pd.read_csv('salaries.csv')\n",
    "\n",
    "# Display the head of the dataframe\n",
    "df.head()"
   ]
  },
  {
   "cell_type": "code",
   "execution_count": 6,
   "id": "98d18af6",
   "metadata": {},
   "outputs": [
    {
     "name": "stdout",
     "output_type": "stream",
     "text": [
      "<class 'pandas.core.frame.DataFrame'>\n",
      "RangeIndex: 133349 entries, 0 to 133348\n",
      "Data columns (total 11 columns):\n",
      " #   Column              Non-Null Count   Dtype \n",
      "---  ------              --------------   ----- \n",
      " 0   work_year           133349 non-null  int64 \n",
      " 1   experience_level    133349 non-null  object\n",
      " 2   employment_type     133349 non-null  object\n",
      " 3   job_title           133349 non-null  object\n",
      " 4   salary              133349 non-null  int64 \n",
      " 5   salary_currency     133349 non-null  object\n",
      " 6   salary_in_usd       133349 non-null  int64 \n",
      " 7   employee_residence  133349 non-null  object\n",
      " 8   remote_ratio        133349 non-null  int64 \n",
      " 9   company_location    133349 non-null  object\n",
      " 10  company_size        133349 non-null  object\n",
      "dtypes: int64(4), object(7)\n",
      "memory usage: 11.2+ MB\n"
     ]
    }
   ],
   "source": [
    "# Display information about the dataset\n",
    "df.info()"
   ]
  },
  {
   "cell_type": "code",
   "execution_count": 7,
   "id": "bd469850",
   "metadata": {},
   "outputs": [
    {
     "name": "stdout",
     "output_type": "stream",
     "text": [
      "Missing values check:\n"
     ]
    },
    {
     "data": {
      "text/html": [
       "<div>\n",
       "<style scoped>\n",
       "    .dataframe tbody tr th:only-of-type {\n",
       "        vertical-align: middle;\n",
       "    }\n",
       "\n",
       "    .dataframe tbody tr th {\n",
       "        vertical-align: top;\n",
       "    }\n",
       "\n",
       "    .dataframe thead th {\n",
       "        text-align: right;\n",
       "    }\n",
       "</style>\n",
       "<table border=\"1\" class=\"dataframe\">\n",
       "  <thead>\n",
       "    <tr style=\"text-align: right;\">\n",
       "      <th></th>\n",
       "      <th>Missing Values</th>\n",
       "      <th>Percentage</th>\n",
       "    </tr>\n",
       "  </thead>\n",
       "  <tbody>\n",
       "  </tbody>\n",
       "</table>\n",
       "</div>"
      ],
      "text/plain": [
       "Empty DataFrame\n",
       "Columns: [Missing Values, Percentage]\n",
       "Index: []"
      ]
     },
     "execution_count": 7,
     "metadata": {},
     "output_type": "execute_result"
    }
   ],
   "source": [
    "# Check for missing values\n",
    "missing_values = df.isnull().sum()\n",
    "missing_percent = (missing_values / len(df)) * 100\n",
    "\n",
    "missing_df = pd.DataFrame({\n",
    "    'Missing Values': missing_values,\n",
    "    'Percentage': missing_percent\n",
    "})\n",
    "\n",
    "print(\"Missing values check:\")\n",
    "missing_df[missing_df['Missing Values'] > 0]"
   ]
  },
  {
   "cell_type": "code",
   "execution_count": 9,
   "id": "bc5a15eb",
   "metadata": {},
   "outputs": [
    {
     "data": {
      "text/plain": [
       "array(['SE', 'MI', 'EN', 'EX'], dtype=object)"
      ]
     },
     "execution_count": 9,
     "metadata": {},
     "output_type": "execute_result"
    }
   ],
   "source": [
    "df['experience_level'].unique()"
   ]
  },
  {
   "cell_type": "code",
   "execution_count": 10,
   "id": "5b660189",
   "metadata": {},
   "outputs": [],
   "source": [
    "experience_mapping = {'EN': 0, 'MI': 1, 'SE': 2, 'EX': 3}\n",
    "df['experience_level_encoded'] = df['experience_level'].map(experience_mapping)\n",
    "# Drop the original categorical column\n",
    "df = df.drop('experience_level', axis=1)"
   ]
  },
  {
   "cell_type": "code",
   "execution_count": 13,
   "id": "4fa0b4f7",
   "metadata": {},
   "outputs": [],
   "source": [
    "# Rename the encoded column to be clear\n",
    "df = df.rename(columns={'experience_level_encoded': 'experience_level'})"
   ]
  },
  {
   "cell_type": "code",
   "execution_count": 17,
   "id": "3979491b",
   "metadata": {},
   "outputs": [
    {
     "name": "stdout",
     "output_type": "stream",
     "text": [
      "<class 'pandas.core.frame.DataFrame'>\n",
      "RangeIndex: 133349 entries, 0 to 133348\n",
      "Data columns (total 14 columns):\n",
      " #   Column              Non-Null Count   Dtype \n",
      "---  ------              --------------   ----- \n",
      " 0   work_year           133349 non-null  int64 \n",
      " 1   job_title           133349 non-null  object\n",
      " 2   salary              133349 non-null  int64 \n",
      " 3   salary_currency     133349 non-null  object\n",
      " 4   salary_in_usd       133349 non-null  int64 \n",
      " 5   employee_residence  133349 non-null  object\n",
      " 6   remote_ratio        133349 non-null  int64 \n",
      " 7   company_location    133349 non-null  object\n",
      " 8   company_size        133349 non-null  object\n",
      " 9   experience_level    133349 non-null  int64 \n",
      " 10  emp_type_CT         133349 non-null  bool  \n",
      " 11  emp_type_FL         133349 non-null  bool  \n",
      " 12  emp_type_FT         133349 non-null  bool  \n",
      " 13  emp_type_PT         133349 non-null  bool  \n",
      "dtypes: bool(4), int64(5), object(5)\n",
      "memory usage: 10.7+ MB\n"
     ]
    }
   ],
   "source": [
    "df.info()"
   ]
  },
  {
   "cell_type": "code",
   "execution_count": 26,
   "id": "5bb63361",
   "metadata": {},
   "outputs": [
    {
     "data": {
      "text/plain": [
       "390"
      ]
     },
     "execution_count": 26,
     "metadata": {},
     "output_type": "execute_result"
    }
   ],
   "source": [
    "len(df['job_title'].unique())"
   ]
  },
  {
   "cell_type": "code",
   "execution_count": 16,
   "id": "f3eeadc8",
   "metadata": {},
   "outputs": [],
   "source": [
    "# Create one-hot encoded columns for employment_type\n",
    "employment_dummies = pd.get_dummies(df['employment_type'], prefix='emp_type').astype(int)\n",
    "\n",
    "# Add the new columns to your dataframe\n",
    "df = pd.concat([df, employment_dummies], axis=1)\n",
    "\n",
    "# Drop the original categorical column\n",
    "df = df.drop('employment_type', axis=1)"
   ]
  },
  {
   "cell_type": "code",
   "execution_count": 19,
   "id": "9c2144ce",
   "metadata": {},
   "outputs": [],
   "source": [
    "# Convert all boolean columns to int\n",
    "bool_columns = df.select_dtypes(include=['bool']).columns\n",
    "df[bool_columns] = df[bool_columns].astype(int)"
   ]
  },
  {
   "cell_type": "code",
   "execution_count": 33,
   "id": "725d3f8a",
   "metadata": {},
   "outputs": [
    {
     "name": "stdout",
     "output_type": "stream",
     "text": [
      "Number of job titles with less than 20 occurrences: 336\n",
      "Percentage of rare job titles: 86.2%\n",
      "\n",
      "Examples of rare job titles:\n",
      "job_title\n",
      "AI Developer                 198\n",
      "Full Stack Engineer          198\n",
      "Product Analyst              196\n",
      "Quantitative Analyst         195\n",
      "Data Modeler                 194\n",
      "Cloud Engineer               178\n",
      "MLOps Engineer               176\n",
      "Data Governance Analyst      172\n",
      "Product Designer             167\n",
      "Member of Technical Staff    158\n",
      "Name: count, dtype: int64\n"
     ]
    }
   ],
   "source": [
    "# Count occurrences of each job title\n",
    "job_counts = df['job_title'].value_counts()\n",
    "\n",
    "# Find job titles with less than 20 occurrences\n",
    "rare_jobs = job_counts[job_counts < 200]\n",
    "\n",
    "print(f\"Number of job titles with less than 20 occurrences: {len(rare_jobs)}\")\n",
    "print(f\"Percentage of rare job titles: {(len(rare_jobs) / len(job_counts)) * 100:.1f}%\")\n",
    "\n",
    "# Show some examples of rare job titles\n",
    "print(\"\\nExamples of rare job titles:\")\n",
    "print(rare_jobs.head(10))"
   ]
  },
  {
   "cell_type": "code",
   "execution_count": 34,
   "id": "6598a35f",
   "metadata": {},
   "outputs": [
    {
     "data": {
      "image/png": "[encoded data removed]",
      "text/plain": [
       "<Figure size 1200x600 with 1 Axes>"
      ]
     },
     "metadata": {},
     "output_type": "display_data"
    },
    {
     "name": "stdout",
     "output_type": "stream",
     "text": [
      "Summary:\n",
      "Total unique job titles: 390\n",
      "Job titles with <20 occurrences: 214\n",
      "Percentage of rare job titles: 54.9%\n"
     ]
    }
   ],
   "source": [
    "import matplotlib.pyplot as plt\n",
    "import seaborn as sns\n",
    "\n",
    "# Count occurrences of each job title\n",
    "job_counts = df['job_title'].value_counts()\n",
    "\n",
    "# Create bins for different frequency ranges\n",
    "bins = [1, 5, 10, 20, 50, 100, 500, 1000, float('inf')]\n",
    "labels = ['1-5', '6-10', '11-20', '21-50', '51-100', '101-500', '501-1000', '1000+']\n",
    "\n",
    "# Categorize job titles by frequency\n",
    "job_frequency = pd.cut(job_counts, bins=bins, labels=labels, include_lowest=True)\n",
    "frequency_distribution = job_frequency.value_counts().sort_index()\n",
    "\n",
    "# Create the plot\n",
    "plt.figure(figsize=(12, 6))\n",
    "bars = plt.bar(frequency_distribution.index, frequency_distribution.values, color='skyblue', edgecolor='navy')\n",
    "\n",
    "# Add percentage labels on bars\n",
    "total_jobs = len(job_counts)\n",
    "for bar, count in zip(bars, frequency_distribution.values):\n",
    "    percentage = (count / total_jobs) * 100\n",
    "    plt.text(bar.get_x() + bar.get_width()/2, bar.get_height() + 1, \n",
    "             f'{percentage:.1f}%', ha='center', va='bottom', fontweight='bold')\n",
    "\n",
    "# Customize the plot\n",
    "plt.title('Distribution of Job Title Frequencies', fontsize=16, fontweight='bold')\n",
    "plt.xlabel('Number of Occurrences', fontsize=12)\n",
    "plt.ylabel('Number of Job Titles', fontsize=12)\n",
    "plt.xticks(rotation=45)\n",
    "plt.grid(axis='y', alpha=0.3)\n",
    "\n",
    "# Add text summary\n",
    "plt.text(0.02, 0.98, f'Total unique job titles: {len(job_counts)}', \n",
    "         transform=plt.gca().transAxes, fontsize=10, verticalalignment='top',\n",
    "         bbox=dict(boxstyle='round', facecolor='wheat', alpha=0.8))\n",
    "\n",
    "plt.tight_layout()\n",
    "plt.show()\n",
    "\n",
    "# Print summary statistics\n",
    "print(f\"Summary:\")\n",
    "print(f\"Total unique job titles: {len(job_counts)}\")\n",
    "print(f\"Job titles with <20 occurrences: {len(job_counts[job_counts < 20])}\")\n",
    "print(f\"Percentage of rare job titles: {(len(job_counts[job_counts < 20]) / len(job_counts)) * 100:.1f}%\")"
   ]
  },
  {
   "cell_type": "code",
   "execution_count": 35,
   "id": "b764c042",
   "metadata": {},
   "outputs": [
    {
     "data": {
      "text/plain": [
       "array([127,  43,  47,  53,  37,  53,  13,  17], dtype=int64)"
      ]
     },
     "execution_count": 35,
     "metadata": {},
     "output_type": "execute_result"
    }
   ],
   "source": [
    "frequency_distribution.values"
   ]
  },
  {
   "cell_type": "code",
   "execution_count": 36,
   "id": "75d09f73",
   "metadata": {},
   "outputs": [],
   "source": [
    "# Keep only top 20 most frequent job titles, group the rest as \"Other\"\n",
    "top_20_jobs = df['job_title'].value_counts().head(20).index\n",
    "\n",
    "# Create a new column with only top 20 + \"Other\"\n",
    "df['job_title_top20'] = df['job_title'].apply(\n",
    "    lambda x: x if x in top_20_jobs else 'Other'\n",
    ")\n",
    "\n",
    "# One-hot encode (21 columns: 20 specific jobs + \"Other\")\n",
    "job_dummies = pd.get_dummies(df['job_title_top20'], prefix='job').astype(int)\n",
    "\n",
    "# Add to dataframe\n",
    "df = pd.concat([df, job_dummies], axis=1)"
   ]
  },
  {
   "cell_type": "code",
   "execution_count": 39,
   "id": "70abbdae",
   "metadata": {},
   "outputs": [
    {
     "data": {
      "text/plain": [
       "work_year                              int64\n",
       "salary                                 int64\n",
       "salary_currency                       object\n",
       "salary_in_usd                          int64\n",
       "employee_residence                    object\n",
       "remote_ratio                           int64\n",
       "company_location                      object\n",
       "company_size                          object\n",
       "experience_level                       int64\n",
       "emp_type_CT                            int32\n",
       "emp_type_FL                            int32\n",
       "emp_type_FT                            int32\n",
       "emp_type_PT                            int32\n",
       "job_AI Engineer                        int32\n",
       "job_Analyst                            int32\n",
       "job_Analytics Engineer                 int32\n",
       "job_Applied Scientist                  int32\n",
       "job_Associate                          int32\n",
       "job_Business Intelligence Engineer     int32\n",
       "job_Consultant                         int32\n",
       "job_Data Analyst                       int32\n",
       "job_Data Architect                     int32\n",
       "job_Data Engineer                      int32\n",
       "job_Data Manager                       int32\n",
       "job_Data Scientist                     int32\n",
       "job_Data Specialist                    int32\n",
       "job_Engineer                           int32\n",
       "job_Machine Learning Engineer          int32\n",
       "job_Manager                            int32\n",
       "job_Other                              int32\n",
       "job_Product Manager                    int32\n",
       "job_Research Engineer                  int32\n",
       "job_Research Scientist                 int32\n",
       "job_Software Engineer                  int32\n",
       "dtype: object"
      ]
     },
     "execution_count": 39,
     "metadata": {},
     "output_type": "execute_result"
    }
   ],
   "source": [
    "df.dtypes"
   ]
  },
  {
   "cell_type": "code",
   "execution_count": 38,
   "id": "5f766714",
   "metadata": {},
   "outputs": [],
   "source": [
    "# Drop the original and intermediate job title columns\n",
    "df = df.drop(['job_title', 'job_title_top20'], axis=1)"
   ]
  },
  {
   "cell_type": "code",
   "execution_count": null,
   "id": "58ee2336",
   "metadata": {},
   "outputs": [],
   "source": []
  }
 ],
 "metadata": {
  "kernelspec": {
   "display_name": "Python 3",
   "language": "python",
   "name": "python3"
  },
  "language_info": {
   "codemirror_mode": {
    "name": "ipython",
    "version": 3
   },
   "file_extension": ".py",
   "mimetype": "text/x-python",
   "name": "python",
   "nbconvert_exporter": "python",
   "pygments_lexer": "ipython3",
   "version": "3.12.5"
  }
 },
 "nbformat": 4,
 "nbformat_minor": 5
}
